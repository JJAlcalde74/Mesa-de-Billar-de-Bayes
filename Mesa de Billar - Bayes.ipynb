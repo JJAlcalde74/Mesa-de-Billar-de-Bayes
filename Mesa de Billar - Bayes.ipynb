{
 "cells": [
  {
   "cell_type": "markdown",
   "id": "c3b22009",
   "metadata": {},
   "source": [
    "# La teoría que nunca murió: De cómo la regla de Bayes permitió descifrar el código Enigma, perseguir los submarinos rusos y emerger triunfante de dos siglos de controversia\n",
    "\n",
    "A continuación, concibió un experimento mental, una especie de simulación por ordenador en versión dieciochesca. Reduciendo el problema a sus elementos básicos, Bayes imaginó una mesa cuadrada tan plana y bien nivelada que al hacer rodar una pelota sobre ella ésta tuviera tantas probabilidades de ir a parar a un punto como de terminar en otro. Las generaciones posteriores darían a su construcción el nombre de «mesa de billar», pero en su calidad de ministro presbiteriano, Bayes habría desaprobado esa clase de juegos, y además su experimento no implicaba que las bolas tuvieran que rebotar en los bordes de la mesa o chocar entre sí. Lo que él tenía en mente era una prueba en la que una bola que se hiciera rodar al azar sobre la mesa tuviera las mismas posibilidades de detenerse en el punto A que de pararse en el punto B.Podemos imaginarle sentado de espaldas a la mesa para no poder ver nada de lo que viniese a suceder en ella. Después le observamos dibujar sobre un trozo de papel un cuadrado para representar la superficie de la mesa. Comienza pidiendo que un ayudante eche a rodar una imaginaria bola blanca sobre la superficie de la fingida mesa. Y como se halla de espaldas a ésta, Bayes no sabe dónde ha ido a parar la pelota experimental.Seguidamente, le imaginamos pidiendo a su colega que haga rodar una segunda bola sobre la mesa y le informe de si ésta viene a detenerse a la izquierda o a la derecha de la bola blanca. En caso de que lo haga a la izquierda, Bayes comprenderá que hay más probabilidades de que la bola blanca de referencia se halle detenida en la parte derecha de la mesa. De nuevo, el amigo de Bayes impulsa la bola y refiere únicamente si ésta se frena a la derecha o a la izquierda de la bola de prueba. Si lo hace a la derecha, Bayes inferirá que la bola testigo no puede hallarse en el borde derecho de la mesa.Bayes va pidiendo a su colega que eche a rodar, una y otra, y otra vez, la bola del experimento. Los jugadores y los matemáticos ya sabían que cuantas más veces lanzaran una moneda al aire, tanto más fiables serían sus conclusiones. Lo que Bayes descubrió fue que al aumentar el número de bolas que se echaban a rodar por la mesa, cada nuevo dato registrado hacía que las oscilaciones del punto de asiento de su imaginaria bola blanca de referencia se movieran en un área cada vez más restringida.Por poner un caso extremo, si todas las bolas lanzadas después de la primera viniesen a detenerse a la derecha de ésta, Bayes tendría que concluir que lo más probable era que su bola de control se hallara situada en el extremo marginal izquierdo de la mesa. Por el contrario, si todos los lanzamientos dieran en quedar ubicados a la izquierda de la primera bola, lo más probable sería que ésta se hallase en el borde derecho. Al final, suponiendo que se hubiera lanzado la bola un número de veces suficiente, Bayes podía reducir progresivamente el área de la posible ubicación de la bola de control.La genialidad del experimento de Bayes radicaba en el hecho de concebir la idea de estrechar la gama de posiciones posibles de la bola inicial e inferir —basándose en tan escasa información— que se hallaba detenida en algún punto situado entre dos límites concretos. Este enfoque era incapaz de generar una respuesta correcta. Bayes nunca tendría la posibilidad de saber con precisión el emplazamiento exacto de la bola blanca, pero podría afirmar con creciente confianza que lo más probable era que se encontrara inscrita en un determinado espacio. De este modo, el sencillo y limitado sistema de Bayes pasaba de las observaciones del mundo a su origen o causa probables. Valiéndose de este conocimiento del presente (es decir, de la información sobre las posiciones de las bolas lanzadas, bien a la derecha, bien a la izquierda de la bola de control), Bayes había imaginado un método para afirmar algo acerca del pasado (esto es, acerca de la posición de la primera bola). Hasta le resultaba posible valorar el grado de confianza que podía depositar en la conclusión a la que hubiese llegado.\n",
    "   "
   ]
  },
  {
   "cell_type": "code",
   "execution_count": 1,
   "id": "613e38fc",
   "metadata": {},
   "outputs": [],
   "source": [
    "import random as r\n",
    "import pandas as pd\n",
    "import matplotlib.pyplot as plt"
   ]
  },
  {
   "cell_type": "code",
   "execution_count": null,
   "id": "e83ae11a",
   "metadata": {},
   "outputs": [],
   "source": [
    "# Simulación del experimento\n",
    "\n",
    "\n",
    "\n",
    "# En función de la proporción de derechas e izquierdas podremos hacer una estimación de la posición de la bola original.\n",
    "\n",
    "# Podremos ir viendo como va evolucionando la predicción conforme se van haciendo más simulaciones."
   ]
  },
  {
   "cell_type": "code",
   "execution_count": 10,
   "id": "a33ee79c",
   "metadata": {},
   "outputs": [
    {
     "name": "stdout",
     "output_type": "stream",
     "text": [
      "Introduce el número de lanzamientos1000\n",
      "1000\n"
     ]
    }
   ],
   "source": [
    "# Introducir datos para la simulacion\n",
    "total_lanzamientos =int(input(\"Introduce el número de lanzamientos\"))\n",
    "print(total_lanzamientos)"
   ]
  },
  {
   "cell_type": "code",
   "execution_count": 11,
   "id": "011c61c0",
   "metadata": {},
   "outputs": [
    {
     "name": "stdout",
     "output_type": "stream",
     "text": [
      "La bola inicial está en la posición:  28.653060886573833\n",
      "     Intento  Estimacion      Error\n",
      "0        1.0    0.000000  28.653061\n",
      "1        2.0   50.000000 -21.346939\n",
      "2        3.0   33.333333  -4.680272\n",
      "3        4.0   25.000000   3.653061\n",
      "4        5.0   20.000000   8.653061\n",
      "..       ...         ...        ...\n",
      "995    996.0   29.518072  -0.865011\n",
      "996    997.0   29.588766  -0.935705\n",
      "997    998.0   29.659319  -1.006258\n",
      "998    999.0   29.729730  -1.076669\n",
      "999   1000.0   29.800000  -1.146939\n",
      "\n",
      "[1000 rows x 3 columns]\n"
     ]
    }
   ],
   "source": [
    "# Simular el lanzamiento de una bola. La posición la definiremos entre dos números (a,b), en nuestro caso 0 y 100\n",
    "\n",
    "bola_inicial = (r.random()*100)\n",
    "print (\"La bola inicial está en la posición: \",bola_inicial)\n",
    "\n",
    "df = pd.DataFrame()\n",
    "df['Intento'] = None\n",
    "df['Estimacion'] = None\n",
    "df['Error'] = None\n",
    "\n",
    "# A partir de ahí simularemos n lanzamientos (también entre a y b) y obtendremos si cada lanzamiento ha ido a la derecha (número superior) o a la izquierda (número inferior).\n",
    "\n",
    "lanzamientos=0\n",
    "derecha=0\n",
    "izquierda=0\n",
    "\n",
    "while (lanzamientos < total_lanzamientos):\n",
    "    bola = (r.random()*100)\n",
    "    if bola < bola_inicial:\n",
    "        izquierda = izquierda + 1\n",
    "    else:\n",
    "        derecha = derecha +1\n",
    "    lanzamientos = lanzamientos+1\n",
    "    estimacion = (izquierda / lanzamientos) * 100\n",
    "    error = bola_inicial - estimacion\n",
    "    nueva_fila = { 'Intento': lanzamientos, 'Estimacion': estimacion, 'Error': error} \n",
    "    df = df.append(nueva_fila, ignore_index=True)\n",
    "\n",
    "    \n",
    "print(df)"
   ]
  },
  {
   "cell_type": "code",
   "execution_count": 12,
   "id": "03d18f7c",
   "metadata": {},
   "outputs": [
    {
     "data": {
      "image/png": "[encoded data removed]",
      "text/plain": [
       "<Figure size 432x288 with 1 Axes>"
      ]
     },
     "metadata": {
      "needs_background": "light"
     },
     "output_type": "display_data"
    }
   ],
   "source": [
    "# Gráfico de estimación\n",
    "fig, ax = plt.subplots()\n",
    "# Dibujar puntos\n",
    "ax.plot(df[\"Intento\"], df[\"Estimacion\"])\n",
    "# Mostrar el gráfico\n",
    "plt.show()"
   ]
  },
  {
   "cell_type": "code",
   "execution_count": 13,
   "id": "91e734f2",
   "metadata": {},
   "outputs": [
    {
     "data": {
      "image/png": "[encoded data removed]",
      "text/plain": [
       "<Figure size 432x288 with 1 Axes>"
      ]
     },
     "metadata": {
      "needs_background": "light"
     },
     "output_type": "display_data"
    }
   ],
   "source": [
    "# Gráfico de error de estimación\n",
    "fig, ax = plt.subplots()\n",
    "# Dibujar puntos\n",
    "ax.plot(df[\"Intento\"], df[\"Error\"])\n",
    "# Mostrar el gráfico\n",
    "plt.show()"
   ]
  },
  {
   "cell_type": "code",
   "execution_count": null,
   "id": "f19d6814",
   "metadata": {},
   "outputs": [],
   "source": []
  }
 ],
 "metadata": {
  "kernelspec": {
   "display_name": "Python 3",
   "language": "python",
   "name": "python3"
  },
  "language_info": {
   "codemirror_mode": {
    "name": "ipython",
    "version": 3
   },
   "file_extension": ".py",
   "mimetype": "text/x-python",
   "name": "python",
   "nbconvert_exporter": "python",
   "pygments_lexer": "ipython3",
   "version": "3.8.8"
  }
 },
 "nbformat": 4,
 "nbformat_minor": 5
}
